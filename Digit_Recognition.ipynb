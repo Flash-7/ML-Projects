{
  "nbformat": 4,
  "nbformat_minor": 0,
  "metadata": {
    "colab": {
      "name": "Digit_Recognition.ipynb",
      "provenance": [],
      "collapsed_sections": []
    },
    "kernelspec": {
      "name": "python3",
      "display_name": "Python 3"
    },
    "language_info": {
      "name": "python"
    }
  },
  "cells": [
    {
      "cell_type": "markdown",
      "metadata": {
        "id": "GW4XhDnzLIt9"
      },
      "source": [
        "#Digit Recognition using Random Forest"
      ]
    },
    {
      "cell_type": "markdown",
      "metadata": {
        "id": "nq_IGj7gLT81"
      },
      "source": [
        "###Importing Basic Library"
      ]
    },
    {
      "cell_type": "code",
      "metadata": {
        "id": "dM-1nsjgLG8C"
      },
      "source": [
        "import pandas as pd\n",
        "import numpy as np"
      ],
      "execution_count": null,
      "outputs": []
    },
    {
      "cell_type": "markdown",
      "metadata": {
        "id": "Il_Np56QwgFx"
      },
      "source": [
        "###Choosing Dataset file from GDrive"
      ]
    },
    {
      "cell_type": "code",
      "metadata": {
        "id": "cPfa1bb_wk_6"
      },
      "source": [
        "from google.colab import drive\n",
        "drive.mount('/content/gdrive')"
      ],
      "execution_count": null,
      "outputs": []
    },
    {
      "cell_type": "markdown",
      "metadata": {
        "id": "g2D7czgQLtoX"
      },
      "source": [
        "###Load Dataset"
      ]
    },
    {
      "cell_type": "code",
      "metadata": {
        "id": "YzJVJFsLwqml"
      },
      "source": [
        "fileName = \"/content/gdrive/My Drive/MachineLearning/digit.csv\"\n",
        "dataset = pd.read_csv(fileName)"
      ],
      "execution_count": null,
      "outputs": []
    },
    {
      "cell_type": "markdown",
      "metadata": {
        "id": "mN71KC1uL4wj"
      },
      "source": [
        "###Summarize Dataset"
      ]
    },
    {
      "cell_type": "code",
      "metadata": {
        "id": "bX1ZKYMwL7bK"
      },
      "source": [
        "print(dataset.shape)\n",
        "print(dataset.head(5))"
      ],
      "execution_count": null,
      "outputs": []
    },
    {
      "cell_type": "markdown",
      "metadata": {
        "id": "fKkNOwwvOKMZ"
      },
      "source": [
        "###Segregate Dataset"
      ]
    },
    {
      "cell_type": "code",
      "metadata": {
        "id": "M4CqVYdSOLqG"
      },
      "source": [
        "X = dataset.iloc[:,1:]\n",
        "print(X)\n",
        "print(X.shape)"
      ],
      "execution_count": null,
      "outputs": []
    },
    {
      "cell_type": "code",
      "metadata": {
        "id": "o4tCKCddyqZJ"
      },
      "source": [
        "Y = dataset.iloc[:,0]\n",
        "print(Y)\n",
        "print(Y.shape)"
      ],
      "execution_count": null,
      "outputs": []
    },
    {
      "cell_type": "markdown",
      "metadata": {
        "id": "_w14f87sy0We"
      },
      "source": [
        "###Splitting Dataset into Test & Train"
      ]
    },
    {
      "cell_type": "code",
      "metadata": {
        "id": "hObY8__gy5KT"
      },
      "source": [
        "from sklearn.model_selection import train_test_split\n",
        "X_train, X_test, y_train, y_test = train_test_split(X, Y, test_size = 0.25, random_state = 0)"
      ],
      "execution_count": null,
      "outputs": []
    },
    {
      "cell_type": "markdown",
      "metadata": {
        "id": "uhmMCtt8zCPE"
      },
      "source": [
        "###Training"
      ]
    },
    {
      "cell_type": "code",
      "metadata": {
        "id": "BjohJXu-zEP9"
      },
      "source": [
        "from sklearn.ensemble import RandomForestClassifier\n",
        "model = RandomForestClassifier()\n",
        "model.fit(X_train, y_train)"
      ],
      "execution_count": null,
      "outputs": []
    },
    {
      "cell_type": "code",
      "metadata": {
        "id": "ojrTDYlpzK6O"
      },
      "source": [
        "y_pred = model.predict(X_test)"
      ],
      "execution_count": null,
      "outputs": []
    },
    {
      "cell_type": "markdown",
      "metadata": {
        "id": "1yGCt8_AzcHF"
      },
      "source": [
        "###Accuracy of Model"
      ]
    },
    {
      "cell_type": "code",
      "metadata": {
        "id": "dSaBR86hzhwX"
      },
      "source": [
        "from sklearn.metrics import accuracy_score\n",
        "print(\"Accuracy of the Model: {0}%\".format(accuracy_score(y_test, y_pred)*100))"
      ],
      "execution_count": null,
      "outputs": []
    },
    {
      "cell_type": "code",
      "metadata": {
        "id": "Yt8MfsUez_8w"
      },
      "source": [
        "import matplotlib.pyplot as plt\n",
        "index=10\n",
        "print(\"Predicted \" + str(model.predict(X_test)[index]))\n",
        "plt.axis('off')\n",
        "plt.imshow(X_test.iloc[index].values.reshape((28,28)),cmap='gray')"
      ],
      "execution_count": null,
      "outputs": []
    }
  ]
}