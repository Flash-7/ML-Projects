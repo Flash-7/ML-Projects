{
  "nbformat": 4,
  "nbformat_minor": 0,
  "metadata": {
    "colab": {
      "name": "Ad_Sale_Prediction.ipynb",
      "provenance": [],
      "collapsed_sections": [
        "JClKVp5TCD9l",
        "bvW5iVffCUqN",
        "ziM6AV5OCbv1",
        "8BRwxhZjCxdk",
        "A-bngxXaC6Pl",
        "iHz9GFRUDDL8",
        "UpZhMBRjD1Zd",
        "S1BQx_VVEAlm",
        "ujapFCsGFpnN",
        "XrZJPhzRF1kt",
        "Kw7HkfkiGaDu",
        "DkJLunqKGofe"
      ]
    },
    "kernelspec": {
      "name": "python3",
      "display_name": "Python 3"
    },
    "language_info": {
      "name": "python"
    }
  },
  "cells": [
    {
      "cell_type": "markdown",
      "metadata": {
        "id": "JClKVp5TCD9l"
      },
      "source": [
        "#Ad. Sale Prediciton from Exisiting customer - Logisitic Regression"
      ]
    },
    {
      "cell_type": "markdown",
      "metadata": {
        "id": "bvW5iVffCUqN"
      },
      "source": [
        "###Importing Libraries"
      ]
    },
    {
      "cell_type": "code",
      "metadata": {
        "id": "oOmndUjlw5w-"
      },
      "source": [
        "import pandas as pd\n",
        "import numpy as np"
      ],
      "execution_count": null,
      "outputs": []
    },
    {
      "cell_type": "markdown",
      "metadata": {
        "id": "ziM6AV5OCbv1"
      },
      "source": [
        "###Choosing Dataset file from Local Directory"
      ]
    },
    {
      "cell_type": "code",
      "metadata": {
        "colab": {
          "resources": {
            "http://localhost:8080/nbextensions/google.colab/files.js": {
              "data": "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",
              "ok": true,
              "headers": [
                [
                  "content-type",
                  "application/javascript"
                ]
              ],
              "status": 200,
              "status_text": ""
            }
          },
          "base_uri": "https://localhost:8080/",
          "height": 74
        },
        "id": "6MBhWWE25tHc",
        "outputId": "0f0bc6ed-f33b-40b7-a3e6-017fa2e7efd4"
      },
      "source": [
        "from google.colab import files\n",
        "uploaded = files.upload()"
      ],
      "execution_count": null,
      "outputs": [
        {
          "output_type": "display_data",
          "data": {
            "text/html": [
              "\n",
              "     <input type=\"file\" id=\"files-90117ca9-47aa-422b-a379-f7c2fd0a80ba\" name=\"files[]\" multiple disabled\n",
              "        style=\"border:none\" />\n",
              "     <output id=\"result-90117ca9-47aa-422b-a379-f7c2fd0a80ba\">\n",
              "      Upload widget is only available when the cell has been executed in the\n",
              "      current browser session. Please rerun this cell to enable.\n",
              "      </output>\n",
              "      <script src=\"/nbextensions/google.colab/files.js\"></script> "
            ],
            "text/plain": [
              "<IPython.core.display.HTML object>"
            ]
          },
          "metadata": {}
        },
        {
          "output_type": "stream",
          "name": "stdout",
          "text": [
            "Saving DigitalAd_dataset.csv to DigitalAd_dataset (1).csv\n"
          ]
        }
      ]
    },
    {
      "cell_type": "markdown",
      "metadata": {
        "id": "8BRwxhZjCxdk"
      },
      "source": [
        "###Load Dataset"
      ]
    },
    {
      "cell_type": "code",
      "metadata": {
        "id": "Erq1nMKz7sFl"
      },
      "source": [
        "dataset = pd.read_csv('DigitalAd_dataset (1).csv')"
      ],
      "execution_count": null,
      "outputs": []
    },
    {
      "cell_type": "markdown",
      "metadata": {
        "id": "A-bngxXaC6Pl"
      },
      "source": [
        "###Summarize Dataset"
      ]
    },
    {
      "cell_type": "code",
      "metadata": {
        "colab": {
          "base_uri": "https://localhost:8080/"
        },
        "id": "yxTSASoz76vb",
        "outputId": "bd61889b-d34d-4328-ff5d-d4598990ea35"
      },
      "source": [
        "print(dataset.shape)\n",
        "print(dataset.head(5))"
      ],
      "execution_count": null,
      "outputs": [
        {
          "output_type": "stream",
          "name": "stdout",
          "text": [
            "(400, 3)\n",
            "   Age  EstimatedSalary  Purchased\n",
            "0   19            19000          0\n",
            "1   35            20000          0\n",
            "2   26            43000          0\n",
            "3   27            57000          0\n",
            "4   19            76000          0\n"
          ]
        }
      ]
    },
    {
      "cell_type": "markdown",
      "metadata": {
        "id": "iHz9GFRUDDL8"
      },
      "source": [
        "### Segregate Dataset into X(Input/IndependentVariable) & Y(Output/DependentVariable)"
      ]
    },
    {
      "cell_type": "code",
      "metadata": {
        "colab": {
          "base_uri": "https://localhost:8080/"
        },
        "id": "AmVeXVJ38aSX",
        "outputId": "8dcdff18-8c11-4f43-eaf5-229b640dc58e"
      },
      "source": [
        "X = dataset.iloc[:,:-1].values\n",
        "X"
      ],
      "execution_count": null,
      "outputs": [
        {
          "output_type": "execute_result",
          "data": {
            "text/plain": [
              "array([[    19,  19000],\n",
              "       [    35,  20000],\n",
              "       [    26,  43000],\n",
              "       [    27,  57000],\n",
              "       [    19,  76000],\n",
              "       [    27,  58000],\n",
              "       [    27,  84000],\n",
              "       [    32, 150000],\n",
              "       [    25,  33000],\n",
              "       [    35,  65000],\n",
              "       [    26,  80000],\n",
              "       [    26,  52000],\n",
              "       [    20,  86000],\n",
              "       [    32,  18000],\n",
              "       [    18,  82000],\n",
              "       [    29,  80000],\n",
              "       [    47,  25000],\n",
              "       [    45,  26000],\n",
              "       [    46,  28000],\n",
              "       [    48,  29000],\n",
              "       [    45,  22000],\n",
              "       [    47,  49000],\n",
              "       [    48,  41000],\n",
              "       [    45,  22000],\n",
              "       [    46,  23000],\n",
              "       [    47,  20000],\n",
              "       [    49,  28000],\n",
              "       [    47,  30000],\n",
              "       [    29,  43000],\n",
              "       [    31,  18000],\n",
              "       [    31,  74000],\n",
              "       [    27, 137000],\n",
              "       [    21,  16000],\n",
              "       [    28,  44000],\n",
              "       [    27,  90000],\n",
              "       [    35,  27000],\n",
              "       [    33,  28000],\n",
              "       [    30,  49000],\n",
              "       [    26,  72000],\n",
              "       [    27,  31000],\n",
              "       [    27,  17000],\n",
              "       [    33,  51000],\n",
              "       [    35, 108000],\n",
              "       [    30,  15000],\n",
              "       [    28,  84000],\n",
              "       [    23,  20000],\n",
              "       [    25,  79000],\n",
              "       [    27,  54000],\n",
              "       [    30, 135000],\n",
              "       [    31,  89000],\n",
              "       [    24,  32000],\n",
              "       [    18,  44000],\n",
              "       [    29,  83000],\n",
              "       [    35,  23000],\n",
              "       [    27,  58000],\n",
              "       [    24,  55000],\n",
              "       [    23,  48000],\n",
              "       [    28,  79000],\n",
              "       [    22,  18000],\n",
              "       [    32, 117000],\n",
              "       [    27,  20000],\n",
              "       [    25,  87000],\n",
              "       [    23,  66000],\n",
              "       [    32, 120000],\n",
              "       [    59,  83000],\n",
              "       [    24,  58000],\n",
              "       [    24,  19000],\n",
              "       [    23,  82000],\n",
              "       [    22,  63000],\n",
              "       [    31,  68000],\n",
              "       [    25,  80000],\n",
              "       [    24,  27000],\n",
              "       [    20,  23000],\n",
              "       [    33, 113000],\n",
              "       [    32,  18000],\n",
              "       [    34, 112000],\n",
              "       [    18,  52000],\n",
              "       [    22,  27000],\n",
              "       [    28,  87000],\n",
              "       [    26,  17000],\n",
              "       [    30,  80000],\n",
              "       [    39,  42000],\n",
              "       [    20,  49000],\n",
              "       [    35,  88000],\n",
              "       [    30,  62000],\n",
              "       [    31, 118000],\n",
              "       [    24,  55000],\n",
              "       [    28,  85000],\n",
              "       [    26,  81000],\n",
              "       [    35,  50000],\n",
              "       [    22,  81000],\n",
              "       [    30, 116000],\n",
              "       [    26,  15000],\n",
              "       [    29,  28000],\n",
              "       [    29,  83000],\n",
              "       [    35,  44000],\n",
              "       [    35,  25000],\n",
              "       [    28, 123000],\n",
              "       [    35,  73000],\n",
              "       [    28,  37000],\n",
              "       [    27,  88000],\n",
              "       [    28,  59000],\n",
              "       [    32,  86000],\n",
              "       [    33, 149000],\n",
              "       [    19,  21000],\n",
              "       [    21,  72000],\n",
              "       [    26,  35000],\n",
              "       [    27,  89000],\n",
              "       [    26,  86000],\n",
              "       [    38,  80000],\n",
              "       [    39,  71000],\n",
              "       [    37,  71000],\n",
              "       [    38,  61000],\n",
              "       [    37,  55000],\n",
              "       [    42,  80000],\n",
              "       [    40,  57000],\n",
              "       [    35,  75000],\n",
              "       [    36,  52000],\n",
              "       [    40,  59000],\n",
              "       [    41,  59000],\n",
              "       [    36,  75000],\n",
              "       [    37,  72000],\n",
              "       [    40,  75000],\n",
              "       [    35,  53000],\n",
              "       [    41,  51000],\n",
              "       [    39,  61000],\n",
              "       [    42,  65000],\n",
              "       [    26,  32000],\n",
              "       [    30,  17000],\n",
              "       [    26,  84000],\n",
              "       [    31,  58000],\n",
              "       [    33,  31000],\n",
              "       [    30,  87000],\n",
              "       [    21,  68000],\n",
              "       [    28,  55000],\n",
              "       [    23,  63000],\n",
              "       [    20,  82000],\n",
              "       [    30, 107000],\n",
              "       [    28,  59000],\n",
              "       [    19,  25000],\n",
              "       [    19,  85000],\n",
              "       [    18,  68000],\n",
              "       [    35,  59000],\n",
              "       [    30,  89000],\n",
              "       [    34,  25000],\n",
              "       [    24,  89000],\n",
              "       [    27,  96000],\n",
              "       [    41,  30000],\n",
              "       [    29,  61000],\n",
              "       [    20,  74000],\n",
              "       [    26,  15000],\n",
              "       [    41,  45000],\n",
              "       [    31,  76000],\n",
              "       [    36,  50000],\n",
              "       [    40,  47000],\n",
              "       [    31,  15000],\n",
              "       [    46,  59000],\n",
              "       [    29,  75000],\n",
              "       [    26,  30000],\n",
              "       [    32, 135000],\n",
              "       [    32, 100000],\n",
              "       [    25,  90000],\n",
              "       [    37,  33000],\n",
              "       [    35,  38000],\n",
              "       [    33,  69000],\n",
              "       [    18,  86000],\n",
              "       [    22,  55000],\n",
              "       [    35,  71000],\n",
              "       [    29, 148000],\n",
              "       [    29,  47000],\n",
              "       [    21,  88000],\n",
              "       [    34, 115000],\n",
              "       [    26, 118000],\n",
              "       [    34,  43000],\n",
              "       [    34,  72000],\n",
              "       [    23,  28000],\n",
              "       [    35,  47000],\n",
              "       [    25,  22000],\n",
              "       [    24,  23000],\n",
              "       [    31,  34000],\n",
              "       [    26,  16000],\n",
              "       [    31,  71000],\n",
              "       [    32, 117000],\n",
              "       [    33,  43000],\n",
              "       [    33,  60000],\n",
              "       [    31,  66000],\n",
              "       [    20,  82000],\n",
              "       [    33,  41000],\n",
              "       [    35,  72000],\n",
              "       [    28,  32000],\n",
              "       [    24,  84000],\n",
              "       [    19,  26000],\n",
              "       [    29,  43000],\n",
              "       [    19,  70000],\n",
              "       [    28,  89000],\n",
              "       [    34,  43000],\n",
              "       [    30,  79000],\n",
              "       [    20,  36000],\n",
              "       [    26,  80000],\n",
              "       [    35,  22000],\n",
              "       [    35,  39000],\n",
              "       [    49,  74000],\n",
              "       [    39, 134000],\n",
              "       [    41,  71000],\n",
              "       [    58, 101000],\n",
              "       [    47,  47000],\n",
              "       [    55, 130000],\n",
              "       [    52, 114000],\n",
              "       [    40, 142000],\n",
              "       [    46,  22000],\n",
              "       [    48,  96000],\n",
              "       [    52, 150000],\n",
              "       [    59,  42000],\n",
              "       [    35,  58000],\n",
              "       [    47,  43000],\n",
              "       [    60, 108000],\n",
              "       [    49,  65000],\n",
              "       [    40,  78000],\n",
              "       [    46,  96000],\n",
              "       [    59, 143000],\n",
              "       [    41,  80000],\n",
              "       [    35,  91000],\n",
              "       [    37, 144000],\n",
              "       [    60, 102000],\n",
              "       [    35,  60000],\n",
              "       [    37,  53000],\n",
              "       [    36, 126000],\n",
              "       [    56, 133000],\n",
              "       [    40,  72000],\n",
              "       [    42,  80000],\n",
              "       [    35, 147000],\n",
              "       [    39,  42000],\n",
              "       [    40, 107000],\n",
              "       [    49,  86000],\n",
              "       [    38, 112000],\n",
              "       [    46,  79000],\n",
              "       [    40,  57000],\n",
              "       [    37,  80000],\n",
              "       [    46,  82000],\n",
              "       [    53, 143000],\n",
              "       [    42, 149000],\n",
              "       [    38,  59000],\n",
              "       [    50,  88000],\n",
              "       [    56, 104000],\n",
              "       [    41,  72000],\n",
              "       [    51, 146000],\n",
              "       [    35,  50000],\n",
              "       [    57, 122000],\n",
              "       [    41,  52000],\n",
              "       [    35,  97000],\n",
              "       [    44,  39000],\n",
              "       [    37,  52000],\n",
              "       [    48, 134000],\n",
              "       [    37, 146000],\n",
              "       [    50,  44000],\n",
              "       [    52,  90000],\n",
              "       [    41,  72000],\n",
              "       [    40,  57000],\n",
              "       [    58,  95000],\n",
              "       [    45, 131000],\n",
              "       [    35,  77000],\n",
              "       [    36, 144000],\n",
              "       [    55, 125000],\n",
              "       [    35,  72000],\n",
              "       [    48,  90000],\n",
              "       [    42, 108000],\n",
              "       [    40,  75000],\n",
              "       [    37,  74000],\n",
              "       [    47, 144000],\n",
              "       [    40,  61000],\n",
              "       [    43, 133000],\n",
              "       [    59,  76000],\n",
              "       [    60,  42000],\n",
              "       [    39, 106000],\n",
              "       [    57,  26000],\n",
              "       [    57,  74000],\n",
              "       [    38,  71000],\n",
              "       [    49,  88000],\n",
              "       [    52,  38000],\n",
              "       [    50,  36000],\n",
              "       [    59,  88000],\n",
              "       [    35,  61000],\n",
              "       [    37,  70000],\n",
              "       [    52,  21000],\n",
              "       [    48, 141000],\n",
              "       [    37,  93000],\n",
              "       [    37,  62000],\n",
              "       [    48, 138000],\n",
              "       [    41,  79000],\n",
              "       [    37,  78000],\n",
              "       [    39, 134000],\n",
              "       [    49,  89000],\n",
              "       [    55,  39000],\n",
              "       [    37,  77000],\n",
              "       [    35,  57000],\n",
              "       [    36,  63000],\n",
              "       [    42,  73000],\n",
              "       [    43, 112000],\n",
              "       [    45,  79000],\n",
              "       [    46, 117000],\n",
              "       [    58,  38000],\n",
              "       [    48,  74000],\n",
              "       [    37, 137000],\n",
              "       [    37,  79000],\n",
              "       [    40,  60000],\n",
              "       [    42,  54000],\n",
              "       [    51, 134000],\n",
              "       [    47, 113000],\n",
              "       [    36, 125000],\n",
              "       [    38,  50000],\n",
              "       [    42,  70000],\n",
              "       [    39,  96000],\n",
              "       [    38,  50000],\n",
              "       [    49, 141000],\n",
              "       [    39,  79000],\n",
              "       [    39,  75000],\n",
              "       [    54, 104000],\n",
              "       [    35,  55000],\n",
              "       [    45,  32000],\n",
              "       [    36,  60000],\n",
              "       [    52, 138000],\n",
              "       [    53,  82000],\n",
              "       [    41,  52000],\n",
              "       [    48,  30000],\n",
              "       [    48, 131000],\n",
              "       [    41,  60000],\n",
              "       [    41,  72000],\n",
              "       [    42,  75000],\n",
              "       [    36, 118000],\n",
              "       [    47, 107000],\n",
              "       [    38,  51000],\n",
              "       [    48, 119000],\n",
              "       [    42,  65000],\n",
              "       [    40,  65000],\n",
              "       [    57,  60000],\n",
              "       [    36,  54000],\n",
              "       [    58, 144000],\n",
              "       [    35,  79000],\n",
              "       [    38,  55000],\n",
              "       [    39, 122000],\n",
              "       [    53, 104000],\n",
              "       [    35,  75000],\n",
              "       [    38,  65000],\n",
              "       [    47,  51000],\n",
              "       [    47, 105000],\n",
              "       [    41,  63000],\n",
              "       [    53,  72000],\n",
              "       [    54, 108000],\n",
              "       [    39,  77000],\n",
              "       [    38,  61000],\n",
              "       [    38, 113000],\n",
              "       [    37,  75000],\n",
              "       [    42,  90000],\n",
              "       [    37,  57000],\n",
              "       [    36,  99000],\n",
              "       [    60,  34000],\n",
              "       [    54,  70000],\n",
              "       [    41,  72000],\n",
              "       [    40,  71000],\n",
              "       [    42,  54000],\n",
              "       [    43, 129000],\n",
              "       [    53,  34000],\n",
              "       [    47,  50000],\n",
              "       [    42,  79000],\n",
              "       [    42, 104000],\n",
              "       [    59,  29000],\n",
              "       [    58,  47000],\n",
              "       [    46,  88000],\n",
              "       [    38,  71000],\n",
              "       [    54,  26000],\n",
              "       [    60,  46000],\n",
              "       [    60,  83000],\n",
              "       [    39,  73000],\n",
              "       [    59, 130000],\n",
              "       [    37,  80000],\n",
              "       [    46,  32000],\n",
              "       [    46,  74000],\n",
              "       [    42,  53000],\n",
              "       [    41,  87000],\n",
              "       [    58,  23000],\n",
              "       [    42,  64000],\n",
              "       [    48,  33000],\n",
              "       [    44, 139000],\n",
              "       [    49,  28000],\n",
              "       [    57,  33000],\n",
              "       [    56,  60000],\n",
              "       [    49,  39000],\n",
              "       [    39,  71000],\n",
              "       [    47,  34000],\n",
              "       [    48,  35000],\n",
              "       [    48,  33000],\n",
              "       [    47,  23000],\n",
              "       [    45,  45000],\n",
              "       [    60,  42000],\n",
              "       [    39,  59000],\n",
              "       [    46,  41000],\n",
              "       [    51,  23000],\n",
              "       [    50,  20000],\n",
              "       [    36,  33000],\n",
              "       [    49,  36000]])"
            ]
          },
          "metadata": {},
          "execution_count": 18
        }
      ]
    },
    {
      "cell_type": "code",
      "metadata": {
        "colab": {
          "base_uri": "https://localhost:8080/"
        },
        "id": "cyouNsXh8ofT",
        "outputId": "3c137fb2-8715-4925-fefe-467793b4cf9a"
      },
      "source": [
        "Y = dataset.iloc[:,-1].values\n",
        "Y"
      ],
      "execution_count": null,
      "outputs": [
        {
          "output_type": "execute_result",
          "data": {
            "text/plain": [
              "array([0, 0, 0, 0, 0, 0, 0, 1, 0, 0, 0, 0, 0, 0, 0, 0, 1, 1, 1, 1, 1, 1,\n",
              "       1, 1, 1, 1, 1, 1, 0, 0, 0, 1, 0, 0, 0, 0, 0, 0, 0, 0, 0, 0, 0, 0,\n",
              "       0, 0, 0, 0, 1, 0, 0, 0, 0, 0, 0, 0, 0, 0, 0, 0, 0, 0, 0, 1, 0, 0,\n",
              "       0, 0, 0, 0, 0, 0, 0, 0, 0, 1, 0, 0, 0, 0, 0, 0, 0, 0, 0, 1, 0, 0,\n",
              "       0, 0, 0, 0, 0, 0, 0, 0, 0, 1, 0, 0, 0, 0, 0, 1, 0, 0, 0, 0, 0, 0,\n",
              "       0, 0, 0, 0, 0, 0, 0, 0, 0, 0, 0, 0, 0, 0, 0, 0, 0, 0, 0, 0, 0, 0,\n",
              "       0, 0, 0, 0, 0, 1, 0, 0, 0, 0, 0, 0, 0, 0, 1, 0, 0, 0, 0, 0, 0, 0,\n",
              "       0, 0, 0, 0, 0, 1, 1, 0, 0, 0, 0, 0, 0, 0, 1, 0, 0, 0, 0, 0, 0, 0,\n",
              "       0, 0, 0, 0, 0, 0, 1, 0, 0, 0, 0, 0, 0, 0, 0, 0, 0, 0, 0, 0, 0, 0,\n",
              "       0, 0, 0, 0, 1, 0, 1, 0, 1, 0, 1, 0, 1, 1, 0, 0, 0, 1, 0, 0, 0, 1,\n",
              "       0, 1, 1, 1, 0, 0, 1, 1, 0, 1, 1, 0, 1, 1, 0, 1, 0, 0, 0, 1, 1, 0,\n",
              "       1, 1, 0, 1, 0, 1, 0, 1, 0, 0, 1, 1, 0, 1, 0, 0, 1, 1, 0, 1, 1, 0,\n",
              "       1, 1, 0, 0, 1, 0, 0, 1, 1, 1, 1, 1, 0, 1, 1, 1, 1, 0, 1, 1, 0, 1,\n",
              "       0, 1, 0, 1, 1, 1, 1, 0, 0, 0, 1, 1, 0, 1, 1, 1, 1, 1, 0, 0, 0, 1,\n",
              "       1, 0, 0, 1, 0, 1, 0, 1, 1, 0, 1, 0, 1, 1, 0, 1, 1, 0, 0, 0, 1, 1,\n",
              "       0, 1, 0, 0, 1, 0, 1, 0, 0, 1, 1, 0, 0, 1, 1, 0, 1, 1, 0, 0, 1, 0,\n",
              "       1, 0, 1, 1, 1, 0, 1, 0, 1, 1, 1, 0, 1, 1, 1, 1, 0, 1, 1, 1, 0, 1,\n",
              "       0, 1, 0, 0, 1, 1, 0, 1, 1, 1, 1, 1, 1, 0, 1, 1, 1, 1, 1, 1, 0, 1,\n",
              "       1, 1, 0, 1])"
            ]
          },
          "metadata": {},
          "execution_count": 19
        }
      ]
    },
    {
      "cell_type": "markdown",
      "metadata": {
        "id": "UpZhMBRjD1Zd"
      },
      "source": [
        "###Splitting Dataset into Train & Test"
      ]
    },
    {
      "cell_type": "code",
      "metadata": {
        "id": "kgel80DA80Ts"
      },
      "source": [
        "from sklearn.model_selection import train_test_split\n",
        "x_train, x_test, y_train, y_test = train_test_split(X, Y, test_size = 0.25, random_state = 0)"
      ],
      "execution_count": null,
      "outputs": []
    },
    {
      "cell_type": "markdown",
      "metadata": {
        "id": "S1BQx_VVEAlm"
      },
      "source": [
        "###Feature Scaling"
      ]
    },
    {
      "cell_type": "markdown",
      "metadata": {
        "id": "QR-5jmUHEWQs"
      },
      "source": [
        "We scale our data to make all the features contribute equally to the result\n",
        "Fit_Transform - fit method is calculating the mean and variance of each of the features present in our data\n",
        "Transform - Transform method is transforming all the features using the respective mean and variance, We want our test data to be a completely new and a suprise set for our model"
      ]
    },
    {
      "cell_type": "code",
      "metadata": {
        "id": "Nu7BxDCx9ZpD"
      },
      "source": [
        "from sklearn.preprocessing import StandardScaler\n",
        "sc = StandardScaler()\n",
        "x_train = sc.fit_transform(x_train)\n",
        "x_test = sc.transform(x_test)"
      ],
      "execution_count": null,
      "outputs": []
    },
    {
      "cell_type": "markdown",
      "metadata": {
        "id": "ujapFCsGFpnN"
      },
      "source": [
        "###Training the Model using Logistic Regression"
      ]
    },
    {
      "cell_type": "code",
      "metadata": {
        "colab": {
          "base_uri": "https://localhost:8080/",
          "height": 200
        },
        "id": "a5EjNGmW-YZM",
        "outputId": "c414a176-1c6a-4c38-e010-eec0801c46d3"
      },
      "source": [
        "from sklearn.linear_model import LogisticRegression\n",
        "model = LogisticRegression(random_state = 0)\n",
        "model.fit(x_train, y_train)"
      ],
      "execution_count": null,
      "outputs": [
        {
          "output_type": "error",
          "ename": "NameError",
          "evalue": "ignored",
          "traceback": [
            "\u001b[0;31m---------------------------------------------------------------------------\u001b[0m",
            "\u001b[0;31mNameError\u001b[0m                                 Traceback (most recent call last)",
            "\u001b[0;32m<ipython-input-1-2921f6ebd8ff>\u001b[0m in \u001b[0;36m<module>\u001b[0;34m()\u001b[0m\n\u001b[1;32m      1\u001b[0m \u001b[0;32mfrom\u001b[0m \u001b[0msklearn\u001b[0m\u001b[0;34m.\u001b[0m\u001b[0mlinear_model\u001b[0m \u001b[0;32mimport\u001b[0m \u001b[0mLogisticRegression\u001b[0m\u001b[0;34m\u001b[0m\u001b[0;34m\u001b[0m\u001b[0m\n\u001b[1;32m      2\u001b[0m \u001b[0mmodel\u001b[0m \u001b[0;34m=\u001b[0m \u001b[0mLogisticRegression\u001b[0m\u001b[0;34m(\u001b[0m\u001b[0mrandom_state\u001b[0m \u001b[0;34m=\u001b[0m \u001b[0;36m0\u001b[0m\u001b[0;34m)\u001b[0m\u001b[0;34m\u001b[0m\u001b[0;34m\u001b[0m\u001b[0m\n\u001b[0;32m----> 3\u001b[0;31m \u001b[0mmodel\u001b[0m\u001b[0;34m.\u001b[0m\u001b[0mfit\u001b[0m\u001b[0;34m(\u001b[0m\u001b[0mx_train\u001b[0m\u001b[0;34m,\u001b[0m \u001b[0my_train\u001b[0m\u001b[0;34m)\u001b[0m\u001b[0;34m\u001b[0m\u001b[0;34m\u001b[0m\u001b[0m\n\u001b[0m",
            "\u001b[0;31mNameError\u001b[0m: name 'x_train' is not defined"
          ]
        }
      ]
    },
    {
      "cell_type": "markdown",
      "metadata": {
        "id": "XrZJPhzRF1kt"
      },
      "source": [
        "###Prediciting, whether new customer with Age & Salary will Buy or Not"
      ]
    },
    {
      "cell_type": "code",
      "metadata": {
        "colab": {
          "base_uri": "https://localhost:8080/"
        },
        "id": "jfxecEho_ArV",
        "outputId": "869b62a9-e6c2-48c1-dad0-5db6e321cf57"
      },
      "source": [
        "age = int(input(\"Enter new customer age: \"))\n",
        "sal = int(input(\"Enter new customer salary: \"))\n",
        "newCust = [[age,sal]]\n",
        "result = model.predict(sc.transform(newCust))\n",
        "print(result)\n",
        "if result == 1:\n",
        "  print('Customer will buy.')\n",
        "else:\n",
        "  print('Customer will not buy')"
      ],
      "execution_count": null,
      "outputs": [
        {
          "output_type": "stream",
          "name": "stdout",
          "text": [
            "Enter new customer age: 45\n",
            "Enter new customer salary: 25000\n",
            "[0]\n",
            "Customer will not buy\n"
          ]
        }
      ]
    },
    {
      "cell_type": "markdown",
      "metadata": {
        "id": "Kw7HkfkiGaDu"
      },
      "source": [
        "###Prediction for all Test Data"
      ]
    },
    {
      "cell_type": "code",
      "metadata": {
        "colab": {
          "base_uri": "https://localhost:8080/"
        },
        "id": "1-mlRA-eAAf9",
        "outputId": "e3db73c6-cb0c-40fc-acf3-3c20dfff5e19"
      },
      "source": [
        "y_pred = model.predict(x_test)\n",
        "print(np.concatenate((y_pred.reshape(len(y_pred),1), y_test.reshape(len(y_test),1)), 1))"
      ],
      "execution_count": null,
      "outputs": [
        {
          "output_type": "stream",
          "name": "stdout",
          "text": [
            "[[0 0]\n",
            " [0 0]\n",
            " [0 0]\n",
            " [0 0]\n",
            " [0 0]\n",
            " [0 0]\n",
            " [0 0]\n",
            " [1 1]\n",
            " [0 0]\n",
            " [1 0]\n",
            " [0 0]\n",
            " [0 0]\n",
            " [0 0]\n",
            " [0 0]\n",
            " [0 0]\n",
            " [0 0]\n",
            " [0 0]\n",
            " [0 0]\n",
            " [1 1]\n",
            " [0 0]\n",
            " [0 0]\n",
            " [1 1]\n",
            " [0 0]\n",
            " [1 1]\n",
            " [0 0]\n",
            " [1 1]\n",
            " [0 0]\n",
            " [0 0]\n",
            " [0 0]\n",
            " [0 0]\n",
            " [0 0]\n",
            " [0 1]\n",
            " [1 1]\n",
            " [0 0]\n",
            " [0 0]\n",
            " [0 0]\n",
            " [0 0]\n",
            " [0 0]\n",
            " [0 0]\n",
            " [1 1]\n",
            " [0 0]\n",
            " [0 0]\n",
            " [0 0]\n",
            " [0 0]\n",
            " [1 1]\n",
            " [0 0]\n",
            " [0 0]\n",
            " [1 1]\n",
            " [0 0]\n",
            " [1 1]\n",
            " [1 1]\n",
            " [0 0]\n",
            " [0 0]\n",
            " [0 0]\n",
            " [1 1]\n",
            " [0 1]\n",
            " [0 0]\n",
            " [0 0]\n",
            " [0 1]\n",
            " [0 0]\n",
            " [0 0]\n",
            " [1 1]\n",
            " [0 0]\n",
            " [0 1]\n",
            " [0 0]\n",
            " [1 1]\n",
            " [0 0]\n",
            " [0 0]\n",
            " [0 0]\n",
            " [0 0]\n",
            " [1 1]\n",
            " [0 0]\n",
            " [0 0]\n",
            " [0 1]\n",
            " [0 0]\n",
            " [0 0]\n",
            " [1 0]\n",
            " [0 0]\n",
            " [1 1]\n",
            " [1 1]\n",
            " [1 1]\n",
            " [1 0]\n",
            " [0 0]\n",
            " [0 0]\n",
            " [1 1]\n",
            " [1 1]\n",
            " [0 0]\n",
            " [1 1]\n",
            " [0 1]\n",
            " [0 0]\n",
            " [0 0]\n",
            " [1 1]\n",
            " [0 0]\n",
            " [0 0]\n",
            " [0 0]\n",
            " [0 1]\n",
            " [0 0]\n",
            " [0 1]\n",
            " [1 1]\n",
            " [1 1]]\n"
          ]
        }
      ]
    },
    {
      "cell_type": "markdown",
      "metadata": {
        "id": "DkJLunqKGofe"
      },
      "source": [
        "###Evaluating Model - CONFUSION MATRIX"
      ]
    },
    {
      "cell_type": "markdown",
      "metadata": {
        "id": "SH_LZ1VYHRI-"
      },
      "source": [
        "![Confusion-matrix-example.png](data:image/png;base64,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)\n",
        "![accuracy.png](data:image/png;base64,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)"
      ]
    },
    {
      "cell_type": "code",
      "metadata": {
        "colab": {
          "base_uri": "https://localhost:8080/"
        },
        "id": "7r6k9bzxA16F",
        "outputId": "05d3689a-66de-44bf-8cb2-29fad9b6be93"
      },
      "source": [
        "from sklearn.metrics import confusion_matrix, accuracy_score\n",
        "cm = confusion_matrix(y_test,y_pred)\n",
        "print('Confusion Matrix: ')\n",
        "print(cm)\n",
        "print('Accuracy of the Model: {0}%'.format(accuracy_score(y_test, y_pred)*100))"
      ],
      "execution_count": null,
      "outputs": [
        {
          "output_type": "stream",
          "name": "stdout",
          "text": [
            "Confusion Matrix: \n",
            "[[65  3]\n",
            " [ 8 24]]\n",
            "Accuracy of the Model: 89.0%\n"
          ]
        }
      ]
    }
  ]
}